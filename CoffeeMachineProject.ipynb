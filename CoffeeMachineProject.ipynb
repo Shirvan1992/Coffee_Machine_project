{
 "cells": [
  {
   "cell_type": "markdown",
   "metadata": {},
   "source": [
    "# COFFEE MACHINE PROJECT"
   ]
  },
  {
   "cell_type": "code",
   "execution_count": 7,
   "metadata": {},
   "outputs": [],
   "source": [
    "def ingredients(choice):\n",
    "    # changes water, milk and coffee according to the user choice\n",
    "    if choice == 'espresso':\n",
    "        water_needed = 50\n",
    "        milk_needed = 0\n",
    "        coffee_needed = 18\n",
    "        money_needed = 1.50\n",
    "    elif choice == 'latte':\n",
    "        water_needed = 200\n",
    "        milk_needed = 150\n",
    "        coffee_needed = 24\n",
    "        money_needed = 2.50\n",
    "    elif choice == 'cappuccino':\n",
    "        water_needed = 250\n",
    "        milk_needed = 100\n",
    "        coffee_needed = 24\n",
    "        money_needed = 3.00\n",
    "    else:\n",
    "        water_needed = 0\n",
    "        milk_needed = 0\n",
    "        coffee_needed = 0\n",
    "        money_needed = 0\n",
    "        \n",
    "    return [water_needed, milk_needed, coffee_needed, money_needed]"
   ]
  },
  {
   "cell_type": "code",
   "execution_count": 8,
   "metadata": {},
   "outputs": [],
   "source": [
    "# alternative function\n",
    "def report():\n",
    "    \n",
    "    global water\n",
    "    water = water - ingredients(user_choice)[0] \n",
    "\n",
    "    global milk\n",
    "    milk = milk - ingredients(user_choice)[1]\n",
    "\n",
    "    global coffee\n",
    "    coffee = coffee - ingredients(user_choice)[2]\n",
    "\n",
    "    global money\n",
    "    money = money + ingredients(user_choice)[3]\n",
    "    \n",
    "    if water >= 0 and milk >= 0 and coffee >= 0:\n",
    "        return [water, milk, coffee, money]        "
   ]
  },
  {
   "cell_type": "code",
   "execution_count": 11,
   "metadata": {},
   "outputs": [],
   "source": [
    "def money_calculator():\n",
    "    global user_money\n",
    "    price_of_coffee = ingredients(user_choice)[3]\n",
    "    change = round((user_money - price_of_coffee),2)\n",
    "    return change"
   ]
  },
  {
   "cell_type": "code",
   "execution_count": 12,
   "metadata": {},
   "outputs": [
    {
     "name": "stdin",
     "output_type": "stream",
     "text": [
      "What would you like? (espresso/latte/cappuccino):  latte\n"
     ]
    },
    {
     "name": "stdout",
     "output_type": "stream",
     "text": [
      "Please insert coins.\n"
     ]
    },
    {
     "name": "stdin",
     "output_type": "stream",
     "text": [
      "how many quarters?  8\n",
      "how many dimes?  8\n",
      "how many nickles?  8\n",
      "how many pennies?  8\n"
     ]
    },
    {
     "name": "stdout",
     "output_type": "stream",
     "text": [
      "Your latte is ready. Enjoy!\n",
      "Here is your change $0.78\n"
     ]
    },
    {
     "name": "stdin",
     "output_type": "stream",
     "text": [
      "What would you like? (espresso/latte/cappuccino):  report\n"
     ]
    },
    {
     "name": "stdout",
     "output_type": "stream",
     "text": [
      "Water: 100ml \n",
      "Milk: 50ml \n",
      "Coffee: 76g \n",
      "Money: $2.5 \n"
     ]
    },
    {
     "name": "stdin",
     "output_type": "stream",
     "text": [
      "What would you like? (espresso/latte/cappuccino):  espesso\n",
      "What would you like? (espresso/latte/cappuccino):  espresso\n"
     ]
    },
    {
     "name": "stdout",
     "output_type": "stream",
     "text": [
      "Please insert coins.\n"
     ]
    },
    {
     "name": "stdin",
     "output_type": "stream",
     "text": [
      "how many quarters?  4\n",
      "how many dimes?  4\n",
      "how many nickles?  4\n",
      "how many pennies?  4\n"
     ]
    },
    {
     "name": "stdout",
     "output_type": "stream",
     "text": [
      "Your espresso is ready. Enjoy!\n",
      "Here is your change $0.14\n"
     ]
    },
    {
     "name": "stdin",
     "output_type": "stream",
     "text": [
      "What would you like? (espresso/latte/cappuccino):  espresso\n"
     ]
    },
    {
     "name": "stdout",
     "output_type": "stream",
     "text": [
      "Please insert coins.\n"
     ]
    },
    {
     "name": "stdin",
     "output_type": "stream",
     "text": [
      "how many quarters?  1\n",
      "how many dimes?  2\n",
      "how many nickles?  212\n",
      "how many pennies?  1\n"
     ]
    },
    {
     "name": "stdout",
     "output_type": "stream",
     "text": [
      "Your espresso is ready. Enjoy!\n",
      "Here is your change $9.56\n"
     ]
    },
    {
     "name": "stdin",
     "output_type": "stream",
     "text": [
      "What would you like? (espresso/latte/cappuccino):  espresso\n"
     ]
    },
    {
     "name": "stdout",
     "output_type": "stream",
     "text": [
      "Not enough water!\n"
     ]
    },
    {
     "name": "stdin",
     "output_type": "stream",
     "text": [
      "What would you like? (espresso/latte/cappuccino):  latte\n"
     ]
    },
    {
     "name": "stdout",
     "output_type": "stream",
     "text": [
      "Not enough water!\n"
     ]
    },
    {
     "name": "stdin",
     "output_type": "stream",
     "text": [
      "What would you like? (espresso/latte/cappuccino):  off\n"
     ]
    }
   ],
   "source": [
    "# Resources\n",
    "water = 300\n",
    "milk = 200\n",
    "coffee = 100\n",
    "money = 0\n",
    "\n",
    "# Needed resources\n",
    "water_needed = 0\n",
    "milk_needed = 0\n",
    "coffee_needed = 0\n",
    "\n",
    "# Coins\n",
    "quarter = 0.25\n",
    "dime = 0.10\n",
    "nickle = 0.05\n",
    "penny = 0.01\n",
    "\n",
    "###### test ####\n",
    "current_resources_1 = [300, 200, 100, 0]\n",
    "\n",
    "\n",
    "# defining user choice so that while loop can start functioning\n",
    "user_choice = 'on'\n",
    "while user_choice != 'off':\n",
    "    #### Prompt user by asking “What would you like? (espresso/latte/cappuccino):”\n",
    "    user_choice = input(\"What would you like? (espresso/latte/cappuccino): \").lower()\n",
    "    \n",
    "    # User_choice conditions\n",
    "    ingredients_1 = ingredients(user_choice)\n",
    "  \n",
    "    \n",
    "    # Turn off the Coffee Machine by entering “off” to the prompt.\n",
    "    if user_choice == 'off':\n",
    "        break\n",
    "        \n",
    "\n",
    "    # Print report\n",
    "    elif user_choice == 'report':\n",
    "        print(f'Water: {current_resources_1[0]}ml \\nMilk: {current_resources_1[1]}ml \\nCoffee: {current_resources_1[2]}g \\nMoney: ${current_resources_1[3]} ')\n",
    "        continue\n",
    "\n",
    "    elif user_choice == 'espresso' or user_choice == 'latte' or user_choice == 'cappuccino':\n",
    "        # check resources according to user_choice\n",
    "        if current_resources_1[0] < ingredients(user_choice)[0]:\n",
    "            print('Not enough water!')\n",
    "        elif current_resources_1[1] < ingredients(user_choice)[1]:\n",
    "            print('Not enough milk!')\n",
    "        elif current_resources_1[2] < ingredients(user_choice)[2]:\n",
    "            print('Not enough coffee!')\n",
    "        \n",
    "        elif (current_resources_1[0]) >= 0 and (current_resources_1[1] >= 0)  and (current_resources_1[2] >= 0):  \n",
    "\n",
    "        \n",
    "            # Ask user to insert coins\n",
    "            print(\"Please insert coins.\")\n",
    "        \n",
    "            user_quarters = int(input('how many quarters? '))\n",
    "            user_dimes = int(input('how many dimes? '))\n",
    "            user_nickles = int(input('how many nickles? '))\n",
    "            user_pennies = int(input('how many pennies? '))   \n",
    "\n",
    "            # Calculate total money that user inserted\n",
    "            user_money = quarter * user_quarters + dime * user_dimes + nickle * user_nickles + penny * user_pennies\n",
    "    \n",
    "            if money_calculator() >= 0:\n",
    "                print(f'Your {user_choice} is ready. Enjoy!')\n",
    "                print(f'Here is your change ${money_calculator()}')\n",
    "                \n",
    "                #update current resources after implementing user's order, by calling report function\n",
    "                current_resources_1 = report()\n",
    "            else:\n",
    "                print('Not enough money!')\n",
    "        \n",
    "#############-------------END OF THE PROGRAM---------------##############"
   ]
  },
  {
   "cell_type": "code",
   "execution_count": null,
   "metadata": {},
   "outputs": [],
   "source": []
  }
 ],
 "metadata": {
  "kernelspec": {
   "display_name": "Python 3",
   "language": "python",
   "name": "python3"
  },
  "language_info": {
   "codemirror_mode": {
    "name": "ipython",
    "version": 3
   },
   "file_extension": ".py",
   "mimetype": "text/x-python",
   "name": "python",
   "nbconvert_exporter": "python",
   "pygments_lexer": "ipython3",
   "version": "3.8.5"
  }
 },
 "nbformat": 4,
 "nbformat_minor": 4
}
